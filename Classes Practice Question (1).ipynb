{
 "cells": [
  {
   "cell_type": "markdown",
   "id": "b791faf3",
   "metadata": {},
   "source": [
    "# Classes in Python\n"
   ]
  },
  {
   "cell_type": "markdown",
   "id": "7221f46c",
   "metadata": {},
   "source": [
    "# Classes Practice Questions\n"
   ]
  },
  {
   "cell_type": "code",
   "execution_count": 4,
   "id": "51402387",
   "metadata": {},
   "outputs": [
    {
     "name": "stdout",
     "output_type": "stream",
     "text": [
      "Jack\n",
      "17\n",
      "New York\n"
     ]
    }
   ],
   "source": [
    "#Q1. Create a class Person with attributes name, age, and city\n",
    "class person:\n",
    "    def __init__(self,name,age,city):\n",
    "     self.name=name\n",
    "     self.age=age\n",
    "     self.city=city\n",
    "person_info= person('Jack',17,'New York')\n",
    "print(person_info.name)\n",
    "print(person_info.age)\n",
    "print(person_info.city)"
   ]
  },
  {
   "cell_type": "code",
   "execution_count": 6,
   "id": "eb689b42",
   "metadata": {},
   "outputs": [
    {
     "name": "stdout",
     "output_type": "stream",
     "text": [
      "{'bwm'} {'leaf'} {2004}\n"
     ]
    }
   ],
   "source": [
    "#Q2. Create a class Car with attributes make, model, and year.\n",
    "class car:\n",
    "    def __init__(self,make,model,year):\n",
    "     self.make=make\n",
    "     self.model=model\n",
    "     self.year=year\n",
    "my_car=car('bwm','leaf',2004)\n",
    "print({my_car.make},{my_car.model},{my_car.year})"
   ]
  },
  {
   "cell_type": "code",
   "execution_count": 12,
   "id": "73b622cd",
   "metadata": {},
   "outputs": [
    {
     "name": "stdout",
     "output_type": "stream",
     "text": [
      "Area: 78.53999999999999\n",
      "Circumference: 31.416\n"
     ]
    }
   ],
   "source": [
    "#Q3. Create a class Circle with attributes radius and methods to calculate area and circumference.\n",
    "class circle:\n",
    "    def __init__(self,radius):\n",
    "     self.radius=radius\n",
    "    def area(self):\n",
    "     return 3.1416 * (self.radius**2)\n",
    "    def circumference(self):\n",
    "     return 2 * 3.1416 * self.radius\n",
    "Circle=circle(5)\n",
    "print(f\"Area: {Circle.area()}\")\n",
    "print(f\"Circumference: {Circle.circumference()}\")"
   ]
  },
  {
   "cell_type": "code",
   "execution_count": 13,
   "id": "464c6758",
   "metadata": {},
   "outputs": [
    {
     "name": "stdout",
     "output_type": "stream",
     "text": [
      "Area:28\n",
      "Perimeter:22\n"
     ]
    }
   ],
   "source": [
    "#Q4. Create a class Rectangle with attributes length and width and methods to calculate area and perimeter.\n",
    "class rectangle:\n",
    "    def __init__(self,length,width):\n",
    "     self.length=length\n",
    "     self.width=width\n",
    "    def area(self):\n",
    "        return self.length * self.width\n",
    "    def perimeter(self):\n",
    "        return 2 * (self.length + self.width)\n",
    "Rectangle=rectangle(7,4)\n",
    "print(f\"Area:{Rectangle.area()}\")\n",
    "print(f\"Perimeter:{Rectangle.perimeter()}\")\n",
    "      \n",
    "    "
   ]
  },
  {
   "cell_type": "code",
   "execution_count": 17,
   "id": "bd38ab8d",
   "metadata": {},
   "outputs": [
    {
     "name": "stdout",
     "output_type": "stream",
     "text": [
      "Student name is David\n",
      "Roll no is: 75\n"
     ]
    }
   ],
   "source": [
    "#Q5. Create a class Student with attributes name, roll_number, and marks. Implement a method to calculate the average marks.\n",
    "class Student:\n",
    "    def __init__(self,name,roll_number,marks):\n",
    "        self.name=name\n",
    "        self.roll_number=roll_number\n",
    "        self.marks=marks\n",
    "    def average(self):\n",
    "        total_marks= sum(self.marks)\n",
    "        num_subjects=len(self.marks)\n",
    "        if num_subjects>0:\n",
    "            average = total_marks/num_subjects\n",
    "            print(f\"Average: {average}\")\n",
    "        else:\n",
    "            print(\"No marks available\")\n",
    "student_info=Student(\"David\",75,973)\n",
    "print(f\"Student name is {student_info.name}\")\n",
    "print(f\"Roll no is: {student_info.roll_number}\")\n",
    "\n"
   ]
  },
  {
   "cell_type": "code",
   "execution_count": 19,
   "id": "e8bdb3a2",
   "metadata": {},
   "outputs": [
    {
     "name": "stdout",
     "output_type": "stream",
     "text": [
      "{'The Alchemist'}\n",
      "{'Paulo Coelho'}\n",
      "{1988}\n"
     ]
    }
   ],
   "source": [
    "#Q6. Create a class Book with attributes title, author, and publication_year.\n",
    "class Book:\n",
    "    def __init__(self,title,author,publication_year):\n",
    "     self.title=title\n",
    "     self.author=author\n",
    "     self.publication_year=publication_year\n",
    "Book_info=Book(\"The Alchemist\", \"Paulo Coelho\", 1988)\n",
    "print({Book_info.title})\n",
    "print({Book_info.author})\n",
    "print({Book_info.publication_year})"
   ]
  },
  {
   "cell_type": "code",
   "execution_count": 21,
   "id": "e59d319e",
   "metadata": {},
   "outputs": [
    {
     "name": "stdout",
     "output_type": "stream",
     "text": [
      "Jackson\n",
      "950000\n",
      "Mafia\n"
     ]
    }
   ],
   "source": [
    "#Q7. Create a class Employee with attributes name, salary, and designation.\n",
    "class Employee:\n",
    "    def __init__(self,name,salary,designation):\n",
    "     self.name=name\n",
    "     self.salary=salary\n",
    "     self.designation=designation\n",
    "employee_info=Employee(\"Jackson\",950000,\"Mafia\")\n",
    "print(employee_info.name)\n",
    "print(employee_info.salary)\n",
    "print(employee_info.designation)"
   ]
  },
  {
   "cell_type": "code",
   "execution_count": 22,
   "id": "e41d51e6",
   "metadata": {},
   "outputs": [
    {
     "name": "stdout",
     "output_type": "stream",
     "text": [
      "Account holder: John Doe, Account number: 12345678, Balance: 1000\n",
      "Deposited 500. New balance: 1500\n",
      "Withdrew 300. New balance: 1200\n",
      "Insufficient funds.\n",
      "Final balance: 1200\n"
     ]
    }
   ],
   "source": [
    "class Bank:\n",
    "    def __init__(self, name, account_number, balance=0):\n",
    "        self.name = name\n",
    "        self.account_number = account_number\n",
    "        self.balance = balance\n",
    "\n",
    "    def deposit(self, amount):\n",
    "        if amount > 0:\n",
    "            self.balance += amount\n",
    "            print(f\"Deposited {amount}. New balance: {self.balance}\")\n",
    "        else:\n",
    "            print(\"Deposit amount must be positive.\")\n",
    "\n",
    "    def withdraw(self, amount):\n",
    "        if amount > 0:\n",
    "            if amount <= self.balance:\n",
    "                self.balance -= amount\n",
    "                print(f\"Withdrew {amount}. New balance: {self.balance}\")\n",
    "            else:\n",
    "                print(\"Insufficient funds.\")\n",
    "        else:\n",
    "            print(\"Withdrawal amount must be positive.\")\n",
    "    def get_balance(self):\n",
    "        return self.balance\n",
    "    def __str__(self):\n",
    "        return f\"Account holder: {self.name}, Account number: {self.account_number}, Balance: {self.balance}\"\n",
    "\n",
    "account = Bank(\"John Doe\", 12345678, 1000)\n",
    "print(account)\n",
    "account.deposit(500)\n",
    "account.withdraw(300)\n",
    "account.withdraw(1500)\n",
    "print(\"Final balance:\", account.get_balance())\n"
   ]
  },
  {
   "cell_type": "code",
   "execution_count": null,
   "id": "7cc183e4",
   "metadata": {},
   "outputs": [],
   "source": []
  }
 ],
 "metadata": {
  "kernelspec": {
   "display_name": "Python 3 (ipykernel)",
   "language": "python",
   "name": "python3"
  },
  "language_info": {
   "codemirror_mode": {
    "name": "ipython",
    "version": 3
   },
   "file_extension": ".py",
   "mimetype": "text/x-python",
   "name": "python",
   "nbconvert_exporter": "python",
   "pygments_lexer": "ipython3",
   "version": "3.11.5"
  }
 },
 "nbformat": 4,
 "nbformat_minor": 5
}
